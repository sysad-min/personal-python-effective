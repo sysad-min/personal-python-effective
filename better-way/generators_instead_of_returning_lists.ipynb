{
 "cells": [
  {
   "cell_type": "code",
   "execution_count": 1,
   "id": "789c6104",
   "metadata": {},
   "outputs": [],
   "source": [
    "def index_words(text):\n",
    "    result = []\n",
    "    if text:\n",
    "        result.append(0)\n",
    "    for index, letter in enumerate(text):\n",
    "        if letter == ' ':\n",
    "            result.append(index + 1)\n",
    "    return result"
   ]
  },
  {
   "cell_type": "code",
   "execution_count": 2,
   "id": "85415974",
   "metadata": {},
   "outputs": [
    {
     "name": "stdout",
     "output_type": "stream",
     "text": [
      "[0, 8, 18, 23, 27, 29, 34, 40]\n"
     ]
    }
   ],
   "source": [
    "address = '컴퓨터(영어: Computer, 문화어: 콤퓨터 , 순화어: 전산기)는 진공관'\n",
    "result = index_words(address)\n",
    "print(result[:10])"
   ]
  },
  {
   "cell_type": "code",
   "execution_count": 3,
   "id": "c8766c7b",
   "metadata": {},
   "outputs": [],
   "source": [
    "def index_words_iter(text):\n",
    "    if text:\n",
    "        yield 0\n",
    "    for index, letter in enumerate(text):\n",
    "        if letter == ' ':\n",
    "            yield index + 1"
   ]
  },
  {
   "cell_type": "code",
   "execution_count": 4,
   "id": "48cf7ba9",
   "metadata": {},
   "outputs": [
    {
     "name": "stdout",
     "output_type": "stream",
     "text": [
      "0\n",
      "8\n"
     ]
    }
   ],
   "source": [
    "it = index_words_iter(address)\n",
    "print(next(it))\n",
    "print(next(it))"
   ]
  },
  {
   "cell_type": "code",
   "execution_count": 6,
   "id": "49da360e",
   "metadata": {},
   "outputs": [
    {
     "name": "stdout",
     "output_type": "stream",
     "text": [
      "[0, 8, 18, 23, 27, 29, 34, 40]\n"
     ]
    }
   ],
   "source": [
    "result = list(index_words_iter(address))\n",
    "print(result[:10])"
   ]
  },
  {
   "cell_type": "code",
   "execution_count": 13,
   "id": "ebf1d7b8",
   "metadata": {},
   "outputs": [],
   "source": [
    "def index_file(handle):\n",
    "    offset = 0\n",
    "    for line in handle:\n",
    "        if line:\n",
    "            yield offset\n",
    "        for letter in line:\n",
    "            offset += 1\n",
    "            if letter == ' ':\n",
    "                yield offset"
   ]
  },
  {
   "cell_type": "code",
   "execution_count": 14,
   "id": "39efa68c",
   "metadata": {},
   "outputs": [
    {
     "name": "stdout",
     "output_type": "stream",
     "text": [
      "[0, 8, 18, 23, 27, 29, 34, 40]\n"
     ]
    }
   ],
   "source": [
    "# 파일에 유니코드 문자가 들어간 경우\n",
    "# 파일을 읽을 때 # utf-#8로 디코딩하도록 # open에 인코딩을 지정해야 한다.\n",
    "from itertools import islice\n",
    "\n",
    "with open('address.txt', encoding='utf-8') as f:\n",
    "    it = index_file(f)\n",
    "    results = itertools.islice(it, 0, 10)\n",
    "    print(list(results))"
   ]
  },
  {
   "cell_type": "code",
   "execution_count": null,
   "id": "143bd02e",
   "metadata": {},
   "outputs": [],
   "source": []
  }
 ],
 "metadata": {
  "kernelspec": {
   "display_name": "py3.9_study",
   "language": "python",
   "name": "py3.9_study"
  },
  "language_info": {
   "codemirror_mode": {
    "name": "ipython",
    "version": 3
   },
   "file_extension": ".py",
   "mimetype": "text/x-python",
   "name": "python",
   "nbconvert_exporter": "python",
   "pygments_lexer": "ipython3",
   "version": "3.9.7"
  }
 },
 "nbformat": 4,
 "nbformat_minor": 5
}
