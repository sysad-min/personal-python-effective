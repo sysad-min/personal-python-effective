{
 "cells": [
  {
   "cell_type": "code",
   "execution_count": 4,
   "id": "99a99792",
   "metadata": {},
   "outputs": [],
   "source": [
    "def get_stats(numbers):\n",
    "    minimum = min(numbers)\n",
    "    maximum = max(numbers)\n",
    "    return minimum, maximum"
   ]
  },
  {
   "cell_type": "code",
   "execution_count": 5,
   "id": "7cbc17fd",
   "metadata": {},
   "outputs": [],
   "source": [
    "lengths = [63, 73, 72, 60, 67, 66, 71, 61, 72, 70]"
   ]
  },
  {
   "cell_type": "code",
   "execution_count": 6,
   "id": "f2220d93",
   "metadata": {},
   "outputs": [],
   "source": [
    "minimum, maximum = get_stats(lengths)"
   ]
  },
  {
   "cell_type": "code",
   "execution_count": 8,
   "id": "9f91b9bc",
   "metadata": {},
   "outputs": [
    {
     "name": "stdout",
     "output_type": "stream",
     "text": [
      "최소: 60, 최대: 73\n"
     ]
    }
   ],
   "source": [
    "print(f'최소: {minimum}, 최대: {maximum}')"
   ]
  },
  {
   "cell_type": "code",
   "execution_count": 9,
   "id": "21446ebe",
   "metadata": {},
   "outputs": [],
   "source": [
    "first, second = 1, 2\n",
    "assert first == 1\n",
    "assert second == 2"
   ]
  },
  {
   "cell_type": "code",
   "execution_count": 10,
   "id": "aa50e658",
   "metadata": {},
   "outputs": [],
   "source": [
    "def my_function():\n",
    "    return 1, 2"
   ]
  },
  {
   "cell_type": "code",
   "execution_count": 12,
   "id": "811d4301",
   "metadata": {},
   "outputs": [],
   "source": [
    "first, second = my_function()\n",
    "assert first == 1\n",
    "assert second == 2"
   ]
  },
  {
   "cell_type": "code",
   "execution_count": 17,
   "id": "e3437bc2",
   "metadata": {},
   "outputs": [],
   "source": [
    "def get_avg_ratio(numbers):\n",
    "    average = sum(numbers) / len(numbers)\n",
    "    scaled = [x / average for x in numbers]\n",
    "    scaled.sort(reverse=True)\n",
    "    return scaled"
   ]
  },
  {
   "cell_type": "code",
   "execution_count": 18,
   "id": "dd04e44c",
   "metadata": {},
   "outputs": [],
   "source": [
    "longest, *middle, shortest = get_avg_ratio(lengths)"
   ]
  },
  {
   "cell_type": "code",
   "execution_count": 19,
   "id": "61644061",
   "metadata": {},
   "outputs": [
    {
     "name": "stdout",
     "output_type": "stream",
     "text": [
      "최대 길이: 108%\n",
      "최소 길이:  89%\n"
     ]
    }
   ],
   "source": [
    "print(f'최대 길이: {longest:>4.0%}')\n",
    "print(f'최소 길이: {shortest:>4.0%}')"
   ]
  },
  {
   "cell_type": "code",
   "execution_count": 20,
   "id": "e8138c81",
   "metadata": {},
   "outputs": [],
   "source": [
    "def get_stats(numbers):\n",
    "    minimum = min(numbers)\n",
    "    maximum = max(numbers)\n",
    "    count = len(numbers)\n",
    "    average = sum(numbers) / count\n",
    "    \n",
    "    sorted_numbers = sorted(numbers)\n",
    "    middle = count // 2\n",
    "    if count % 2 == 0:\n",
    "        lower = sorted_numbers[middle - 1]\n",
    "        upper = sorted_numbers[middle]\n",
    "        median = (lower + upper) / 2\n",
    "    else:\n",
    "        median = sorted_numbers[middle]\n",
    "        \n",
    "    return minimum, maximum, average, median, count"
   ]
  },
  {
   "cell_type": "code",
   "execution_count": 21,
   "id": "97d54aa6",
   "metadata": {},
   "outputs": [],
   "source": [
    "minimum, maximum, average, median, count = get_stats(lengths)"
   ]
  },
  {
   "cell_type": "code",
   "execution_count": 22,
   "id": "baf74902",
   "metadata": {},
   "outputs": [
    {
     "name": "stdout",
     "output_type": "stream",
     "text": [
      "최소 길이: 60, 최대 길이: 73\n",
      "평균 : 67.5, 중앙값: 68.5, 개수: 10\n"
     ]
    }
   ],
   "source": [
    "print(f'최소 길이: {minimum}, 최대 길이: {maximum}')\n",
    "print(f'평균 : {average}, 중앙값: {median}, 개수: {count}')"
   ]
  },
  {
   "cell_type": "code",
   "execution_count": null,
   "id": "beb6aaaa",
   "metadata": {},
   "outputs": [],
   "source": [
    "# 올바른 사용\n",
    "minimum, maximum, average, median, count = get_stats(lengths)\n",
    "\n",
    "# 실수\n",
    "minimum, maximum, median, average, count = get_stats(lengths)"
   ]
  },
  {
   "cell_type": "code",
   "execution_count": 25,
   "id": "6a7fbc8c",
   "metadata": {},
   "outputs": [],
   "source": [
    "minimum, maximum, average, median, count = get_stats(\n",
    "    lengths)\n",
    "\n",
    "minimum, maximum, average, median, count = \\\n",
    "get_stats(lengths)\n",
    "\n",
    "(minimum, maximum, average, \n",
    " median, count) = get_stats(lengths)\n",
    " \n",
    "(minimum, maximum, average, median, count\n",
    "    ) = get_stats(lengths)"
   ]
  },
  {
   "cell_type": "code",
   "execution_count": null,
   "id": "20583230",
   "metadata": {},
   "outputs": [],
   "source": []
  }
 ],
 "metadata": {
  "kernelspec": {
   "display_name": "py3.9_study",
   "language": "python",
   "name": "py3.9_study"
  },
  "language_info": {
   "codemirror_mode": {
    "name": "ipython",
    "version": 3
   },
   "file_extension": ".py",
   "mimetype": "text/x-python",
   "name": "python",
   "nbconvert_exporter": "python",
   "pygments_lexer": "ipython3",
   "version": "3.9.7"
  }
 },
 "nbformat": 4,
 "nbformat_minor": 5
}
