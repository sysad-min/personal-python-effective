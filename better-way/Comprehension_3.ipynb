{
 "cells": [
  {
   "cell_type": "code",
   "execution_count": 6,
   "id": "da10368e",
   "metadata": {},
   "outputs": [],
   "source": [
    "stock = {\n",
    "    '못': 125,\n",
    "    '나사못': 35,\n",
    "    '나비너트': 8,\n",
    "    '와셔': 24,\n",
    "}\n",
    "\n",
    "order = ['나사못', '나비너트', '클립']\n",
    "\n",
    "def get_batches(count, size):\n",
    "    return count // size"
   ]
  },
  {
   "cell_type": "code",
   "execution_count": 7,
   "id": "3f1d3fc0",
   "metadata": {},
   "outputs": [
    {
     "name": "stdout",
     "output_type": "stream",
     "text": [
      "{'나사못': 4, '나비너트': 1}\n"
     ]
    }
   ],
   "source": [
    "result = {}\n",
    "for name in order:\n",
    "    count = stock.get(name, 0)\n",
    "    batches = get_batches(count, 8)\n",
    "    if batches:\n",
    "        result[name] = batches\n",
    "\n",
    "print(result)"
   ]
  },
  {
   "cell_type": "code",
   "execution_count": 8,
   "id": "3ff38551",
   "metadata": {},
   "outputs": [
    {
     "name": "stdout",
     "output_type": "stream",
     "text": [
      "{'나사못': 4, '나비너트': 1}\n"
     ]
    }
   ],
   "source": [
    "found = {name: get_batches(stock.get(name, 0), 8)\n",
    "        for name in order\n",
    "        if get_batches(stock.get(name, 0), 8)}\n",
    "print(found)"
   ]
  },
  {
   "cell_type": "code",
   "execution_count": 9,
   "id": "27d67a56",
   "metadata": {},
   "outputs": [
    {
     "name": "stdout",
     "output_type": "stream",
     "text": [
      "예상: {'나사못': 4, '나비너트': 1}\n",
      "실제: {'나사못': 8, '나비너트': 2}\n"
     ]
    }
   ],
   "source": [
    "has_bug = {name: get_batches(stock.get(name, 0), 4)\n",
    "        for name in order\n",
    "        if get_batches(stock.get(name, 0), 8)}\n",
    "print('예상:', found)\n",
    "print('실제:', has_bug)"
   ]
  },
  {
   "cell_type": "code",
   "execution_count": 10,
   "id": "430858cf",
   "metadata": {},
   "outputs": [],
   "source": [
    "found = {name: batches for name in order\n",
    "        if (batches := get_batches(stock.get(name, 0), 8))}"
   ]
  },
  {
   "cell_type": "code",
   "execution_count": 13,
   "id": "7764f2f2",
   "metadata": {},
   "outputs": [
    {
     "ename": "NameError",
     "evalue": "name 'tenth' is not defined",
     "output_type": "error",
     "traceback": [
      "\u001b[0;31m---------------------------------------------------------------------------\u001b[0m",
      "\u001b[0;31mNameError\u001b[0m                                 Traceback (most recent call last)",
      "Input \u001b[0;32mIn [13]\u001b[0m, in \u001b[0;36m<cell line: 1>\u001b[0;34m()\u001b[0m\n\u001b[0;32m----> 1\u001b[0m result \u001b[38;5;241m=\u001b[39m {name: {tenth \u001b[38;5;241m:=\u001b[39m count \u001b[38;5;241m/\u001b[39m\u001b[38;5;241m/\u001b[39m \u001b[38;5;241m10\u001b[39m}\n\u001b[1;32m      2\u001b[0m          \u001b[38;5;28;01mfor\u001b[39;00m name, count \u001b[38;5;129;01min\u001b[39;00m stock\u001b[38;5;241m.\u001b[39mitems() \u001b[38;5;28;01mif\u001b[39;00m tenth \u001b[38;5;241m>\u001b[39m \u001b[38;5;241m0\u001b[39m}\n",
      "Input \u001b[0;32mIn [13]\u001b[0m, in \u001b[0;36m<dictcomp>\u001b[0;34m(.0)\u001b[0m\n\u001b[1;32m      1\u001b[0m result \u001b[38;5;241m=\u001b[39m {name: {tenth \u001b[38;5;241m:=\u001b[39m count \u001b[38;5;241m/\u001b[39m\u001b[38;5;241m/\u001b[39m \u001b[38;5;241m10\u001b[39m}\n\u001b[0;32m----> 2\u001b[0m          \u001b[38;5;28;01mfor\u001b[39;00m name, count \u001b[38;5;129;01min\u001b[39;00m stock\u001b[38;5;241m.\u001b[39mitems() \u001b[38;5;28;01mif\u001b[39;00m \u001b[43mtenth\u001b[49m \u001b[38;5;241m>\u001b[39m \u001b[38;5;241m0\u001b[39m}\n",
      "\u001b[0;31mNameError\u001b[0m: name 'tenth' is not defined"
     ]
    }
   ],
   "source": [
    "result = {name: {tenth := count // 10}\n",
    "         for name, count in stock.items() if tenth > 0}"
   ]
  },
  {
   "cell_type": "code",
   "execution_count": 14,
   "id": "97599425",
   "metadata": {},
   "outputs": [
    {
     "name": "stdout",
     "output_type": "stream",
     "text": [
      "{'못': 12, '나사못': 3, '와셔': 2}\n"
     ]
    }
   ],
   "source": [
    "result = {name: tenth for name, count in stock.items()\n",
    "         if (tenth := count // 10) > 0}\n",
    "print(result)"
   ]
  },
  {
   "cell_type": "code",
   "execution_count": 9,
   "id": "90c22e69",
   "metadata": {},
   "outputs": [
    {
     "name": "stdout",
     "output_type": "stream",
     "text": [
      "[62, 17, 4, 12]의 마지막 원소는 12\n"
     ]
    }
   ],
   "source": [
    "half = [(last := count // 2) for count in stock.values()]\n",
    "print(f'{half}의 마지막 원소는 {last}')"
   ]
  },
  {
   "cell_type": "code",
   "execution_count": 13,
   "id": "9e505055",
   "metadata": {},
   "outputs": [
    {
     "name": "stdout",
     "output_type": "stream",
     "text": [
      "[125, 35, 8, 24]의 마지막 원소는 24\n"
     ]
    }
   ],
   "source": [
    "for count in stock.values():  # 루프 변수가 누출됨\n",
    "    pass\n",
    "\n",
    "print(f'{list(stock.values())}의 마지막 원소는 {count}')"
   ]
  },
  {
   "cell_type": "code",
   "execution_count": 2,
   "id": "60c916f3",
   "metadata": {},
   "outputs": [
    {
     "name": "stdout",
     "output_type": "stream",
     "text": [
      "[62, 17, 4, 12]\n"
     ]
    },
    {
     "ename": "NameError",
     "evalue": "name 'count' is not defined",
     "output_type": "error",
     "traceback": [
      "\u001b[0;31m---------------------------------------------------------------------------\u001b[0m",
      "\u001b[0;31mNameError\u001b[0m                                 Traceback (most recent call last)",
      "Input \u001b[0;32mIn [2]\u001b[0m, in \u001b[0;36m<cell line: 5>\u001b[0;34m()\u001b[0m\n\u001b[1;32m      3\u001b[0m half \u001b[38;5;241m=\u001b[39m [count \u001b[38;5;241m/\u001b[39m\u001b[38;5;241m/\u001b[39m \u001b[38;5;241m2\u001b[39m \u001b[38;5;28;01mfor\u001b[39;00m count \u001b[38;5;129;01min\u001b[39;00m stock\u001b[38;5;241m.\u001b[39mvalues()]\n\u001b[1;32m      4\u001b[0m \u001b[38;5;28mprint\u001b[39m(half)\n\u001b[0;32m----> 5\u001b[0m \u001b[38;5;28mprint\u001b[39m(\u001b[43mcount\u001b[49m)\n",
      "\u001b[0;31mNameError\u001b[0m: name 'count' is not defined"
     ]
    }
   ],
   "source": [
    "# 바로 앞의 예제를 처리하다가 count가 정의된 경우에는 제대로 작동하지 않음\n",
    "# 파이썬을 재시작하고 아래 코드를 실행해야 오류를 볼 수 있음\n",
    "half = [count // 2 for count in stock.values()]\n",
    "print(half)\n",
    "print(count)"
   ]
  },
  {
   "cell_type": "code",
   "execution_count": 5,
   "id": "44d235ed",
   "metadata": {},
   "outputs": [
    {
     "name": "stdout",
     "output_type": "stream",
     "text": [
      "('나사못', 4)\n",
      "('나비너트', 1)\n"
     ]
    }
   ],
   "source": [
    "found = ((name, batches) for name in order\n",
    "        if (batches := get_batches(stock.get(name, 0), 8)))\n",
    "print(next(found))\n",
    "print(next(found))"
   ]
  }
 ],
 "metadata": {
  "kernelspec": {
   "display_name": "py3.9_study",
   "language": "python",
   "name": "py3.9_study"
  },
  "language_info": {
   "codemirror_mode": {
    "name": "ipython",
    "version": 3
   },
   "file_extension": ".py",
   "mimetype": "text/x-python",
   "name": "python",
   "nbconvert_exporter": "python",
   "pygments_lexer": "ipython3",
   "version": "3.9.7"
  }
 },
 "nbformat": 4,
 "nbformat_minor": 5
}
