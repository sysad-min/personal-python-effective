{
 "cells": [
  {
   "cell_type": "code",
   "execution_count": 1,
   "id": "3e552ee4",
   "metadata": {},
   "outputs": [],
   "source": [
    "from random import randint"
   ]
  },
  {
   "cell_type": "code",
   "execution_count": 3,
   "id": "7a8877b1",
   "metadata": {},
   "outputs": [
    {
     "name": "stdout",
     "output_type": "stream",
     "text": [
      "0b11111000110101001000011101111111\n"
     ]
    }
   ],
   "source": [
    "random_bits = 0\n",
    "for i in range(32):\n",
    "    if randint(0, 1):\n",
    "        random_bits |= 1 << i\n",
    "            \n",
    "print(bin(random_bits))"
   ]
  },
  {
   "cell_type": "code",
   "execution_count": 4,
   "id": "b5529735",
   "metadata": {},
   "outputs": [
    {
     "name": "stdout",
     "output_type": "stream",
     "text": [
      "바닐라 맛있어요.\n",
      "초콜릿 맛있어요.\n",
      "피칸 맛있어요.\n",
      "딸기 맛있어요.\n"
     ]
    }
   ],
   "source": [
    "flavor_list = ['바닐라', '초콜릿', '피칸', '딸기']\n",
    "for flavor in flavor_list:\n",
    "    print(f'{flavor} 맛있어요.')"
   ]
  },
  {
   "cell_type": "code",
   "execution_count": 5,
   "id": "9d4a5d58",
   "metadata": {},
   "outputs": [
    {
     "name": "stdout",
     "output_type": "stream",
     "text": [
      "1: 바닐라\n",
      "2: 초콜릿\n",
      "3: 피칸\n",
      "4: 딸기\n"
     ]
    }
   ],
   "source": [
    "for i in range(len(flavor_list)):\n",
    "    flavor = flavor_list[i]\n",
    "    print(f'{i+1}: {flavor}')"
   ]
  },
  {
   "cell_type": "code",
   "execution_count": 6,
   "id": "097986e8",
   "metadata": {},
   "outputs": [
    {
     "name": "stdout",
     "output_type": "stream",
     "text": [
      "(0, '바닐라')\n",
      "(1, '초콜릿')\n"
     ]
    }
   ],
   "source": [
    "it = enumerate(flavor_list)\n",
    "print(next(it))\n",
    "print(next(it))"
   ]
  },
  {
   "cell_type": "code",
   "execution_count": 7,
   "id": "1ee4ec13",
   "metadata": {},
   "outputs": [
    {
     "name": "stdout",
     "output_type": "stream",
     "text": [
      "1: 바닐라\n",
      "2: 초콜릿\n",
      "3: 피칸\n",
      "4: 딸기\n"
     ]
    }
   ],
   "source": [
    "for i, flavor in enumerate(flavor_list):\n",
    "    print(f'{i + 1}: {flavor}')"
   ]
  },
  {
   "cell_type": "code",
   "execution_count": 10,
   "id": "3b91cd9d",
   "metadata": {},
   "outputs": [
    {
     "name": "stdout",
     "output_type": "stream",
     "text": [
      "1: 바닐라\n",
      "2: 초콜릿\n",
      "3: 피칸\n",
      "4: 딸기\n"
     ]
    }
   ],
   "source": [
    "for i, flavor in enumerate(flavor_list, 1):\n",
    "    print(f'{i}: {flavor}')"
   ]
  },
  {
   "cell_type": "code",
   "execution_count": null,
   "id": "dcc7dd30",
   "metadata": {},
   "outputs": [],
   "source": []
  }
 ],
 "metadata": {
  "kernelspec": {
   "display_name": "py3.9_study",
   "language": "python",
   "name": "py3.9_study"
  },
  "language_info": {
   "codemirror_mode": {
    "name": "ipython",
    "version": 3
   },
   "file_extension": ".py",
   "mimetype": "text/x-python",
   "name": "python",
   "nbconvert_exporter": "python",
   "pygments_lexer": "ipython3",
   "version": "3.9.7"
  }
 },
 "nbformat": 4,
 "nbformat_minor": 5
}
