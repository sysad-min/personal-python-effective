{
 "cells": [
  {
   "cell_type": "code",
   "execution_count": 3,
   "id": "bf9e1f93",
   "metadata": {},
   "outputs": [],
   "source": [
    "visits = {\n",
    "    '미국': {'뉴욕', '로스엔젤레스'},\n",
    "    '일본': {'하코네'},\n",
    "}"
   ]
  },
  {
   "cell_type": "markdown",
   "id": "46409971",
   "metadata": {},
   "source": [
    "#### setdefault 사용"
   ]
  },
  {
   "cell_type": "code",
   "execution_count": 4,
   "id": "dc38b093",
   "metadata": {},
   "outputs": [
    {
     "name": "stdout",
     "output_type": "stream",
     "text": [
      "{'미국': {'로스엔젤레스', '뉴욕'}, '일본': {'하코네'}, '프랑스': {'칸'}}\n"
     ]
    }
   ],
   "source": [
    "visits.setdefault('프랑스', set()).add('칸')\n",
    "print(visits)"
   ]
  },
  {
   "cell_type": "markdown",
   "id": "409fb4fb",
   "metadata": {},
   "source": [
    "#### get메서드와 대입식 사용"
   ]
  },
  {
   "cell_type": "code",
   "execution_count": 5,
   "id": "5fd4aa79",
   "metadata": {},
   "outputs": [
    {
     "name": "stdout",
     "output_type": "stream",
     "text": [
      "{'미국': {'로스엔젤레스', '뉴욕'}, '일본': {'교토', '하코네'}, '프랑스': {'칸'}}\n"
     ]
    }
   ],
   "source": [
    "if (japan := visits.get('일본')) is None:\n",
    "    visits['일본'] = japan = set()\n",
    "japan.add('교토')\n",
    "print(visits)"
   ]
  },
  {
   "cell_type": "code",
   "execution_count": 6,
   "id": "188f5171",
   "metadata": {},
   "outputs": [],
   "source": [
    "class Visits:\n",
    "    def __init__(self):\n",
    "        self.data = {}\n",
    "    \n",
    "    def add(self, country, city):\n",
    "        city_set = self.data.setdefault(country, set())\n",
    "        city_set.add(city)"
   ]
  },
  {
   "cell_type": "code",
   "execution_count": 7,
   "id": "73488605",
   "metadata": {},
   "outputs": [
    {
     "name": "stdout",
     "output_type": "stream",
     "text": [
      "{'러시아': {'예카테린부르크'}, '탄자니아': {'잔지바르'}}\n"
     ]
    }
   ],
   "source": [
    "visits = Visits()\n",
    "visits.add('러시아', '예카테린부르크')\n",
    "visits.add('탄자니아', '잔지바르')\n",
    "print(visits.data)"
   ]
  },
  {
   "cell_type": "code",
   "execution_count": 8,
   "id": "a79755cd",
   "metadata": {},
   "outputs": [
    {
     "name": "stdout",
     "output_type": "stream",
     "text": [
      "defaultdict(<class 'set'>, {'영국': {'바스', '런던'}})\n"
     ]
    }
   ],
   "source": [
    "from collections import defaultdict\n",
    "\n",
    "class Visits:\n",
    "    def __init__(self):\n",
    "        self.data = defaultdict(set)\n",
    "        \n",
    "    def add(self, country, city):\n",
    "        self.data[country].add(city)\n",
    "        \n",
    "visits = Visits()\n",
    "visits.add('영국', '바스')\n",
    "visits.add('영국', '런던')\n",
    "print(visits.data)"
   ]
  },
  {
   "cell_type": "code",
   "execution_count": null,
   "id": "144bfd92",
   "metadata": {},
   "outputs": [],
   "source": []
  }
 ],
 "metadata": {
  "kernelspec": {
   "display_name": "py3.9_study",
   "language": "python",
   "name": "py3.9_study"
  },
  "language_info": {
   "codemirror_mode": {
    "name": "ipython",
    "version": 3
   },
   "file_extension": ".py",
   "mimetype": "text/x-python",
   "name": "python",
   "nbconvert_exporter": "python",
   "pygments_lexer": "ipython3",
   "version": "3.9.7"
  }
 },
 "nbformat": 4,
 "nbformat_minor": 5
}
