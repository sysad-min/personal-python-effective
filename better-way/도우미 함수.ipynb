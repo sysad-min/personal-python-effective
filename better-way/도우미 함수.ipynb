{
 "cells": [
  {
   "cell_type": "code",
   "execution_count": 1,
   "id": "dd9bf4a7",
   "metadata": {},
   "outputs": [],
   "source": [
    "from urllib.parse import parse_qs"
   ]
  },
  {
   "cell_type": "code",
   "execution_count": 11,
   "id": "59cc3d34",
   "metadata": {},
   "outputs": [
    {
     "name": "stdout",
     "output_type": "stream",
     "text": [
      "{'빨강': ['5'], '파랑': ['0'], '초록': ['']}\n"
     ]
    }
   ],
   "source": [
    "my_values = parse_qs('빨강=5&파랑=0&초록=', keep_blank_values=True)\n",
    "print(repr(my_values))"
   ]
  },
  {
   "cell_type": "code",
   "execution_count": 10,
   "id": "0c9f3d76",
   "metadata": {},
   "outputs": [
    {
     "name": "stdout",
     "output_type": "stream",
     "text": [
      "빨강: ['5']\n",
      "초록: ['']\n",
      "투명도: None\n"
     ]
    }
   ],
   "source": [
    "print('빨강:', my_values.get('빨강'))\n",
    "print('초록:', my_values.get('초록'))\n",
    "print('투명도:', my_values.get('투명도'))"
   ]
  },
  {
   "cell_type": "markdown",
   "id": "dae028f6",
   "metadata": {},
   "source": [
    "파라미터가 없거나 비어 있을 경우 0이 디폴드 값으로 대입되도록 만들기\n",
    "\n",
    "빈 문자열, 빈 list, 0이 모두 암시적으로 False로 평가된다는 사실을 이용"
   ]
  },
  {
   "cell_type": "code",
   "execution_count": 14,
   "id": "bf51da65",
   "metadata": {},
   "outputs": [
    {
     "name": "stdout",
     "output_type": "stream",
     "text": [
      "빨강: '5'\n",
      "초록: 0\n",
      "투명도: 0\n"
     ]
    }
   ],
   "source": [
    "red = my_values.get('빨강', [''])[0] or 0\n",
    "green = my_values.get('초록', [''])[0] or 0\n",
    "opacity = my_values.get('투명도', [''])[0] or 0\n",
    "print(f'빨강: {red!r}')\n",
    "print(f'초록: {green!r}')\n",
    "print(f'투명도: {opacity!r}')"
   ]
  },
  {
   "cell_type": "markdown",
   "id": "ceecec27",
   "metadata": {},
   "source": [
    "'빨강'인 경우 딕셔너리 안에 키가 있기 때문에 작동\n",
    "\n",
    "키에 해당하는 값은 '5'라는 문자열이 유일한 원소로 들어있는 list\n",
    "\n",
    "'초록'인 경우 빈 문자열, 암묵적으로 False로 평가, 전체 식은 0으로 평가\n",
    "\n",
    "'투명도'인 경우 키에 해당하는 값이 없음, get 메서드는 딕셔너리 안에 키가 없을 때 두 번째 인자 반환"
   ]
  },
  {
   "cell_type": "code",
   "execution_count": 15,
   "id": "5f4bc267",
   "metadata": {},
   "outputs": [],
   "source": [
    "red = int(my_values.get('빨강', [''])[0] or 0)"
   ]
  },
  {
   "cell_type": "markdown",
   "id": "9ec720c0",
   "metadata": {},
   "source": [
    "읽기 어렵고, 시각적 잡음 존재\n",
    "\n",
    "명확하게 표현할 수 있는 if/else조건식(또는 삼항 조건식)"
   ]
  },
  {
   "cell_type": "code",
   "execution_count": 16,
   "id": "1f0a11f2",
   "metadata": {},
   "outputs": [],
   "source": [
    "red_str = my_values.get('빨강', [''])\n",
    "red = int(red_str[0]) if red_str[0] else 0"
   ]
  },
  {
   "cell_type": "code",
   "execution_count": 18,
   "id": "9b30e1d1",
   "metadata": {},
   "outputs": [],
   "source": [
    "green_str = my_values.get('초록', [''])\n",
    "if green_str[0]:\n",
    "    green = int(green_str[0])\n",
    "else:\n",
    "    green = 0"
   ]
  },
  {
   "cell_type": "code",
   "execution_count": 19,
   "id": "8a6f20c3",
   "metadata": {},
   "outputs": [],
   "source": [
    "def get_first_int(values, key, default=0):\n",
    "    found = values.get(key, [''])\n",
    "    if found[0]:\n",
    "        return int(found[0])\n",
    "    return default"
   ]
  },
  {
   "cell_type": "code",
   "execution_count": 20,
   "id": "4ab108c1",
   "metadata": {},
   "outputs": [],
   "source": [
    "green = get_first_int(my_values, '초록')"
   ]
  },
  {
   "cell_type": "markdown",
   "id": "3295778a",
   "metadata": {},
   "source": [
    "식이 복잡해지기 시작하면 바로 식을 더 작은 조각으로 나눠서 로직을 도우미 함수로 옮길지 고려"
   ]
  },
  {
   "cell_type": "code",
   "execution_count": null,
   "id": "eab01326",
   "metadata": {},
   "outputs": [],
   "source": []
  }
 ],
 "metadata": {
  "kernelspec": {
   "display_name": "py3.9_study",
   "language": "python",
   "name": "py3.9_study"
  },
  "language_info": {
   "codemirror_mode": {
    "name": "ipython",
    "version": 3
   },
   "file_extension": ".py",
   "mimetype": "text/x-python",
   "name": "python",
   "nbconvert_exporter": "python",
   "pygments_lexer": "ipython3",
   "version": "3.9.7"
  }
 },
 "nbformat": 4,
 "nbformat_minor": 5
}
