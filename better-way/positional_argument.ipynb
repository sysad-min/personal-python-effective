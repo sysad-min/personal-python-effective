{
 "cells": [
  {
   "cell_type": "code",
   "execution_count": 1,
   "id": "1536479f",
   "metadata": {},
   "outputs": [
    {
     "name": "stdout",
     "output_type": "stream",
     "text": [
      "내 숫자는: 1, 2\n",
      "안녕\n"
     ]
    }
   ],
   "source": [
    "def log(message, values):\n",
    "    if not values:\n",
    "        print(message)\n",
    "    else:\n",
    "        values_str = ', '.join(str(x) for x in values)\n",
    "        print(f'{message}: {values_str}')\n",
    "        \n",
    "log('내 숫자는', [1, 2])\n",
    "log('안녕', [])"
   ]
  },
  {
   "cell_type": "code",
   "execution_count": 4,
   "id": "dd74437d",
   "metadata": {},
   "outputs": [
    {
     "name": "stdout",
     "output_type": "stream",
     "text": [
      "내 숫자는: 1, 2\n",
      "안녕\n"
     ]
    }
   ],
   "source": [
    "def log(message, *values):    # 달라진 유일한 부분\n",
    "    if not values:\n",
    "        print(message)\n",
    "    else:\n",
    "        values_str = ', '.join(str(x) for x in values)\n",
    "        print(f'{message}: {values_str}')\n",
    "        \n",
    "log('내 숫자는', 1, 2)\n",
    "log('안녕')"
   ]
  },
  {
   "cell_type": "code",
   "execution_count": 5,
   "id": "27167693",
   "metadata": {},
   "outputs": [
    {
     "name": "stdout",
     "output_type": "stream",
     "text": [
      "좋아하는 숫자는: 7, 33, 99\n"
     ]
    }
   ],
   "source": [
    "favorites = [7, 33, 99]\n",
    "log('좋아하는 숫자는', *favorites)"
   ]
  },
  {
   "cell_type": "code",
   "execution_count": 7,
   "id": "17493bfc",
   "metadata": {},
   "outputs": [
    {
     "name": "stdout",
     "output_type": "stream",
     "text": [
      "(0, 1, 2, 3, 4, 5, 6, 7, 8, 9)\n"
     ]
    }
   ],
   "source": [
    "def my_generator():\n",
    "    for i in range(10):\n",
    "        yield i\n",
    "        \n",
    "def my_func(*args):\n",
    "    print(args)\n",
    "    \n",
    "it = my_generator()\n",
    "my_func(*it)"
   ]
  },
  {
   "cell_type": "code",
   "execution_count": 9,
   "id": "85f863fb",
   "metadata": {},
   "outputs": [
    {
     "name": "stdout",
     "output_type": "stream",
     "text": [
      "1 - 좋아하는 숫자는: 7, 33\n",
      "1 - 안녕\n",
      "좋아하는 숫자는 - 7: 33\n"
     ]
    }
   ],
   "source": [
    "def log(sequence, message, *values):\n",
    "    if not values:\n",
    "        print(f'{sequence} - {message}')\n",
    "    else:\n",
    "        values_str = ', '.join(str(x) for x in values)\n",
    "        print(f'{sequence} - {message}: {values_str}')\n",
    "        \n",
    "log(1, '좋아하는 숫자는', 7, 33)    # 새 코드에서 가변 인자 사용. 문제 없음\n",
    "log(1, '안녕')                   # 새 코드에서 가변 인자 없이 메시지만 사용\n",
    "                                # 문제 없음\n",
    "log('좋아하는 숫자는', 7, 33)       # 예전 방식 코드는 깨짐"
   ]
  },
  {
   "cell_type": "code",
   "execution_count": null,
   "id": "1f28dc94",
   "metadata": {},
   "outputs": [],
   "source": []
  }
 ],
 "metadata": {
  "kernelspec": {
   "display_name": "py3.9_study",
   "language": "python",
   "name": "py3.9_study"
  },
  "language_info": {
   "codemirror_mode": {
    "name": "ipython",
    "version": 3
   },
   "file_extension": ".py",
   "mimetype": "text/x-python",
   "name": "python",
   "nbconvert_exporter": "python",
   "pygments_lexer": "ipython3",
   "version": "3.9.7"
  }
 },
 "nbformat": 4,
 "nbformat_minor": 5
}
