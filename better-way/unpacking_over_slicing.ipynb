{
 "cells": [
  {
   "cell_type": "code",
   "execution_count": 1,
   "id": "6ced9501",
   "metadata": {},
   "outputs": [
    {
     "ename": "ValueError",
     "evalue": "too many values to unpack (expected 2)",
     "output_type": "error",
     "traceback": [
      "\u001b[0;31m---------------------------------------------------------------------------\u001b[0m",
      "\u001b[0;31mValueError\u001b[0m                                Traceback (most recent call last)",
      "Input \u001b[0;32mIn [1]\u001b[0m, in \u001b[0;36m<cell line: 3>\u001b[0;34m()\u001b[0m\n\u001b[1;32m      1\u001b[0m car_ages \u001b[38;5;241m=\u001b[39m [\u001b[38;5;241m0\u001b[39m, \u001b[38;5;241m9\u001b[39m, \u001b[38;5;241m4\u001b[39m, \u001b[38;5;241m7\u001b[39m, \u001b[38;5;241m20\u001b[39m, \u001b[38;5;241m19\u001b[39m, \u001b[38;5;241m1\u001b[39m, \u001b[38;5;241m6\u001b[39m, \u001b[38;5;241m15\u001b[39m]\n\u001b[1;32m      2\u001b[0m car_ages_descending \u001b[38;5;241m=\u001b[39m \u001b[38;5;28msorted\u001b[39m(car_ages, reverse\u001b[38;5;241m=\u001b[39m\u001b[38;5;28;01mTrue\u001b[39;00m)\n\u001b[0;32m----> 3\u001b[0m oldest, second_oldest \u001b[38;5;241m=\u001b[39m car_ages_descending\n",
      "\u001b[0;31mValueError\u001b[0m: too many values to unpack (expected 2)"
     ]
    }
   ],
   "source": [
    "car_ages = [0, 9, 4, 7, 20, 19, 1, 6, 15]\n",
    "car_ages_descending = sorted(car_ages, reverse=True)\n",
    "oldest, second_oldest = car_ages_descending"
   ]
  },
  {
   "cell_type": "code",
   "execution_count": 2,
   "id": "95231369",
   "metadata": {},
   "outputs": [
    {
     "name": "stdout",
     "output_type": "stream",
     "text": [
      "20 19 [15, 9, 7, 6, 4, 1, 0]\n"
     ]
    }
   ],
   "source": [
    "oldest = car_ages_descending[0]\n",
    "second_oldest = car_ages_descending[1]\n",
    "others = car_ages_descending[2:]\n",
    "print(oldest, second_oldest, others)"
   ]
  },
  {
   "cell_type": "code",
   "execution_count": 3,
   "id": "c2688ace",
   "metadata": {},
   "outputs": [
    {
     "name": "stdout",
     "output_type": "stream",
     "text": [
      "20 19 [15, 9, 7, 6, 4, 1, 0]\n"
     ]
    }
   ],
   "source": [
    "oldest, second_oldest, *others = car_ages_descending\n",
    "print(oldest, second_oldest, others)"
   ]
  },
  {
   "cell_type": "code",
   "execution_count": 4,
   "id": "ecba24f1",
   "metadata": {},
   "outputs": [
    {
     "name": "stdout",
     "output_type": "stream",
     "text": [
      "20 0 [19, 15, 9, 7, 6, 4, 1]\n",
      "0 1 [20, 19, 15, 9, 7, 6, 4]\n"
     ]
    }
   ],
   "source": [
    "oldest, *others, youngest = car_ages_descending\n",
    "print(oldest, youngest, others)\n",
    "\n",
    "*others, second_youngest, youngest = car_ages_descending\n",
    "print(youngest, second_youngest, others)"
   ]
  },
  {
   "cell_type": "code",
   "execution_count": 5,
   "id": "d259225a",
   "metadata": {},
   "outputs": [
    {
     "ename": "SyntaxError",
     "evalue": "starred assignment target must be in a list or tuple (2422727027.py, line 1)",
     "output_type": "error",
     "traceback": [
      "\u001b[0;36m  Input \u001b[0;32mIn [5]\u001b[0;36m\u001b[0m\n\u001b[0;31m    *others = car_ages_descending\u001b[0m\n\u001b[0m    ^\u001b[0m\n\u001b[0;31mSyntaxError\u001b[0m\u001b[0;31m:\u001b[0m starred assignment target must be in a list or tuple\n"
     ]
    }
   ],
   "source": [
    "*others = car_ages_descending"
   ]
  },
  {
   "cell_type": "code",
   "execution_count": 6,
   "id": "84292979",
   "metadata": {},
   "outputs": [
    {
     "ename": "SyntaxError",
     "evalue": "multiple starred expressions in assignment (1671393997.py, line 1)",
     "output_type": "error",
     "traceback": [
      "\u001b[0;36m  Input \u001b[0;32mIn [6]\u001b[0;36m\u001b[0m\n\u001b[0;31m    first, *middle, *second_middle, last = [1,2,3,4]\u001b[0m\n\u001b[0m    ^\u001b[0m\n\u001b[0;31mSyntaxError\u001b[0m\u001b[0;31m:\u001b[0m multiple starred expressions in assignment\n"
     ]
    }
   ],
   "source": [
    "first, *middle, *second_middle, last = [1,2,3,4]"
   ]
  },
  {
   "cell_type": "code",
   "execution_count": 7,
   "id": "19809644",
   "metadata": {},
   "outputs": [
    {
     "name": "stdout",
     "output_type": "stream",
     "text": [
      "시내 최고는 그랜저, 나머지는 2 종\n",
      "공항 최고는 젠쿱, 나머지는 3 종\n"
     ]
    }
   ],
   "source": [
    "car_inventory = {\n",
    "    '시내': ('그랜저', '아반떼', '티코'),\n",
    "    '공항': ('젠쿱', '소나타', '과학5호기', '엑센트')\n",
    "}\n",
    "((loc1, (best1, *rest1)),\n",
    "(loc2, (best2, *rest2))) = car_inventory.items()\n",
    "print(f'{loc1} 최고는 {best1}, 나머지는 {len(rest1)} 종')\n",
    "print(f'{loc2} 최고는 {best2}, 나머지는 {len(rest2)} 종')"
   ]
  },
  {
   "cell_type": "code",
   "execution_count": 9,
   "id": "736daeff",
   "metadata": {},
   "outputs": [
    {
     "name": "stdout",
     "output_type": "stream",
     "text": [
      "1 2 []\n"
     ]
    }
   ],
   "source": [
    "short_list = [1,2]\n",
    "first, second, *rest = short_list\n",
    "print(first, second, rest)"
   ]
  },
  {
   "cell_type": "code",
   "execution_count": null,
   "id": "57671458",
   "metadata": {},
   "outputs": [],
   "source": []
  }
 ],
 "metadata": {
  "kernelspec": {
   "display_name": "py3.9_study",
   "language": "python",
   "name": "py3.9_study"
  },
  "language_info": {
   "codemirror_mode": {
    "name": "ipython",
    "version": 3
   },
   "file_extension": ".py",
   "mimetype": "text/x-python",
   "name": "python",
   "nbconvert_exporter": "python",
   "pygments_lexer": "ipython3",
   "version": "3.9.7"
  }
 },
 "nbformat": 4,
 "nbformat_minor": 5
}
