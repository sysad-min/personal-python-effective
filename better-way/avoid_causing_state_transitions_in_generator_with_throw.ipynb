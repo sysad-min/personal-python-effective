{
 "cells": [
  {
   "cell_type": "code",
   "execution_count": 3,
   "id": "3b7e5a0f",
   "metadata": {},
   "outputs": [
    {
     "name": "stdout",
     "output_type": "stream",
     "text": [
      "1\n",
      "2\n"
     ]
    },
    {
     "ename": "MyError",
     "evalue": "test error",
     "output_type": "error",
     "traceback": [
      "\u001b[0;31m---------------------------------------------------------------------------\u001b[0m",
      "\u001b[0;31mMyError\u001b[0m                                   Traceback (most recent call last)",
      "Input \u001b[0;32mIn [3]\u001b[0m, in \u001b[0;36m<cell line: 12>\u001b[0;34m()\u001b[0m\n\u001b[1;32m     10\u001b[0m \u001b[38;5;28mprint\u001b[39m(\u001b[38;5;28mnext\u001b[39m(it))\n\u001b[1;32m     11\u001b[0m \u001b[38;5;28mprint\u001b[39m(\u001b[38;5;28mnext\u001b[39m(it))\n\u001b[0;32m---> 12\u001b[0m \u001b[38;5;28mprint\u001b[39m(\u001b[43mit\u001b[49m\u001b[38;5;241;43m.\u001b[39;49m\u001b[43mthrow\u001b[49m\u001b[43m(\u001b[49m\u001b[43mMyError\u001b[49m\u001b[43m(\u001b[49m\u001b[38;5;124;43m'\u001b[39;49m\u001b[38;5;124;43mtest error\u001b[39;49m\u001b[38;5;124;43m'\u001b[39;49m\u001b[43m)\u001b[49m\u001b[43m)\u001b[49m)\n",
      "Input \u001b[0;32mIn [3]\u001b[0m, in \u001b[0;36mmy_generator\u001b[0;34m()\u001b[0m\n\u001b[1;32m      4\u001b[0m \u001b[38;5;28;01mdef\u001b[39;00m \u001b[38;5;21mmy_generator\u001b[39m():\n\u001b[1;32m      5\u001b[0m     \u001b[38;5;28;01myield\u001b[39;00m \u001b[38;5;241m1\u001b[39m\n\u001b[0;32m----> 6\u001b[0m     \u001b[38;5;28;01myield\u001b[39;00m \u001b[38;5;241m2\u001b[39m\n\u001b[1;32m      7\u001b[0m     \u001b[38;5;28;01myield\u001b[39;00m \u001b[38;5;241m3\u001b[39m\n",
      "\u001b[0;31mMyError\u001b[0m: test error"
     ]
    }
   ],
   "source": [
    "class MyError(Exception):\n",
    "    pass\n",
    "\n",
    "def my_generator():\n",
    "    yield 1\n",
    "    yield 2\n",
    "    yield 3\n",
    "    \n",
    "it = my_generator()\n",
    "print(next(it))\n",
    "print(next(it))\n",
    "print(it.throw(MyError('test error')))"
   ]
  },
  {
   "cell_type": "code",
   "execution_count": 4,
   "id": "9e5c721f",
   "metadata": {},
   "outputs": [
    {
     "name": "stdout",
     "output_type": "stream",
     "text": [
      "1\n",
      "2\n",
      "MyError 발생!\n",
      "4\n"
     ]
    }
   ],
   "source": [
    "def my_generator():\n",
    "    yield 1\n",
    "    \n",
    "    try:\n",
    "        yield 2\n",
    "    except MyError:\n",
    "        print('MyError 발생!')\n",
    "    else:\n",
    "        yield 3\n",
    "\n",
    "    yield 4\n",
    "    \n",
    "it = my_generator()\n",
    "print(next(it))\n",
    "print(next(it))\n",
    "print(it.throw(MyError('test error')))"
   ]
  },
  {
   "cell_type": "code",
   "execution_count": 5,
   "id": "f1cd9332",
   "metadata": {},
   "outputs": [],
   "source": [
    "class Reset(Exception):\n",
    "    pass\n",
    "\n",
    "def timer(period):\n",
    "    current = period\n",
    "    while current:\n",
    "        current -= 1\n",
    "        try:\n",
    "            yield current\n",
    "        except Reset:\n",
    "            current = period"
   ]
  },
  {
   "cell_type": "code",
   "execution_count": 7,
   "id": "fadb2b5d",
   "metadata": {},
   "outputs": [
    {
     "name": "stdout",
     "output_type": "stream",
     "text": [
      "3 틱 남음\n",
      "2 틱 남음\n",
      "1 틱 남음\n",
      "0 틱 남음\n"
     ]
    }
   ],
   "source": [
    "def check_for_reset():\n",
    "    # 외부 이벤트 폴링\n",
    "    # ...\n",
    "    pass\n",
    "\n",
    "def announce(remaining):\n",
    "    print(f'{remaining} 틱 남음')\n",
    "    \n",
    "def run():\n",
    "    it = timer(4)\n",
    "    while True:\n",
    "        try:\n",
    "            if check_for_reset():\n",
    "                current = it.throw(Reset())\n",
    "            else:\n",
    "                current = next(it)\n",
    "        except StopIteration:\n",
    "            break\n",
    "        else:\n",
    "            announce(current)\n",
    "            \n",
    "run()\n",
    "            "
   ]
  },
  {
   "cell_type": "code",
   "execution_count": 8,
   "id": "cfbf802f",
   "metadata": {},
   "outputs": [
    {
     "name": "stdout",
     "output_type": "stream",
     "text": [
      "3 틱 남음\n",
      "2 틱 남음\n",
      "1 틱 남음\n",
      "0 틱 남음\n"
     ]
    }
   ],
   "source": [
    "class Timer:\n",
    "    def __init__(self, period):\n",
    "        self.current = period\n",
    "        self.period = period\n",
    "        \n",
    "    def reset(self):\n",
    "        self.current = self.period\n",
    "        \n",
    "    def __iter__(self):\n",
    "        while self.current:\n",
    "            self.current -= 1\n",
    "            yield self.current\n",
    "            \n",
    "    def run():\n",
    "        timer = Timer(4)\n",
    "        for current in timer:\n",
    "            if check_for_reset():\n",
    "                timer.reset()\n",
    "            announce(current)\n",
    "run()"
   ]
  },
  {
   "cell_type": "code",
   "execution_count": null,
   "id": "876e41f9",
   "metadata": {},
   "outputs": [],
   "source": []
  }
 ],
 "metadata": {
  "kernelspec": {
   "display_name": "py3.9_study",
   "language": "python",
   "name": "py3.9_study"
  },
  "language_info": {
   "codemirror_mode": {
    "name": "ipython",
    "version": 3
   },
   "file_extension": ".py",
   "mimetype": "text/x-python",
   "name": "python",
   "nbconvert_exporter": "python",
   "pygments_lexer": "ipython3",
   "version": "3.9.7"
  }
 },
 "nbformat": 4,
 "nbformat_minor": 5
}
