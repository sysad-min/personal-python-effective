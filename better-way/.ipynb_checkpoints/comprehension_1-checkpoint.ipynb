{
 "cells": [
  {
   "cell_type": "code",
   "execution_count": 3,
   "id": "9c8ef74f",
   "metadata": {},
   "outputs": [
    {
     "name": "stdout",
     "output_type": "stream",
     "text": [
      "[1, 4, 9, 16, 25, 36, 49, 64, 81, 100]\n"
     ]
    }
   ],
   "source": [
    "a = [1, 2, 3, 4, 5, 6, 7, 8, 9, 10]\n",
    "squares = []\n",
    "for x in a:\n",
    "    squares.append(x ** 2)\n",
    "print(squares)"
   ]
  },
  {
   "cell_type": "code",
   "execution_count": 4,
   "id": "64745c1e",
   "metadata": {},
   "outputs": [
    {
     "name": "stdout",
     "output_type": "stream",
     "text": [
      "[1, 4, 9, 16, 25, 36, 49, 64, 81, 100]\n"
     ]
    }
   ],
   "source": [
    "squares = [x ** 2 for x in a]  # 리스트 컴프리헨션\n",
    "print(squares)"
   ]
  },
  {
   "cell_type": "code",
   "execution_count": 5,
   "id": "27955705",
   "metadata": {},
   "outputs": [],
   "source": [
    "alt = map(lambda x: x ** 2, a)"
   ]
  },
  {
   "cell_type": "code",
   "execution_count": 6,
   "id": "8c7a40b9",
   "metadata": {},
   "outputs": [
    {
     "name": "stdout",
     "output_type": "stream",
     "text": [
      "[4, 16, 36, 64, 100]\n"
     ]
    }
   ],
   "source": [
    "even_squares = [x ** 2 for x in a if x % 2 == 0]\n",
    "print(even_squares)"
   ]
  },
  {
   "cell_type": "code",
   "execution_count": 11,
   "id": "9074934b",
   "metadata": {},
   "outputs": [],
   "source": [
    "alt = map(lambda x: x ** 2, filter(lambda x: x % 2 == 0, a))"
   ]
  },
  {
   "cell_type": "code",
   "execution_count": 12,
   "id": "1cb12f93",
   "metadata": {},
   "outputs": [],
   "source": [
    "assert even_squares == list(alt)"
   ]
  },
  {
   "cell_type": "code",
   "execution_count": 13,
   "id": "367bf78b",
   "metadata": {},
   "outputs": [
    {
     "name": "stdout",
     "output_type": "stream",
     "text": [
      "{2: 4, 4: 16, 6: 36, 8: 64, 10: 100}\n",
      "{216, 729, 27}\n"
     ]
    }
   ],
   "source": [
    "even_squares_dict = {x: x ** 2 for x in a if x % 2 == 0}\n",
    "threes_cubed_set = {x ** 3 for x in a if x % 3 == 0}\n",
    "print(even_squares_dict)\n",
    "print(threes_cubed_set)"
   ]
  },
  {
   "cell_type": "code",
   "execution_count": 25,
   "id": "dc15265f",
   "metadata": {},
   "outputs": [],
   "source": [
    "alt_dict = dict(map(lambda x: (x, x ** 2),\n",
    "                   filter(lambda x: x % 2 == 0, a)))\n",
    "alt_set = set(map(lambda x: x**3,\n",
    "                 filter(lambda x: x % 3 == 0, a)))"
   ]
  }
 ],
 "metadata": {
  "kernelspec": {
   "display_name": "py3.9_study",
   "language": "python",
   "name": "py3.9_study"
  },
  "language_info": {
   "codemirror_mode": {
    "name": "ipython",
    "version": 3
   },
   "file_extension": ".py",
   "mimetype": "text/x-python",
   "name": "python",
   "nbconvert_exporter": "python",
   "pygments_lexer": "ipython3",
   "version": "3.9.7"
  }
 },
 "nbformat": 4,
 "nbformat_minor": 5
}
