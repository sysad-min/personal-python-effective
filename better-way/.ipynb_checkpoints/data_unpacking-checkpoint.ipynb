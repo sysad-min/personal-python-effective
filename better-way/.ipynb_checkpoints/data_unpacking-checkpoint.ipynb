{
 "cells": [
  {
   "cell_type": "code",
   "execution_count": 1,
   "id": "439bb6a5",
   "metadata": {},
   "outputs": [
    {
     "name": "stdout",
     "output_type": "stream",
     "text": [
      "(('감자칩', 140), ('팝콘', 80), ('땅콩', 190))\n"
     ]
    }
   ],
   "source": [
    "snack_calories = {\n",
    "    '감자칩': 140,\n",
    "    '팝콘': 80,\n",
    "    '땅콩': 190,\n",
    "}\n",
    "items = tuple(snack_calories.items())\n",
    "print(items)"
   ]
  },
  {
   "cell_type": "code",
   "execution_count": 2,
   "id": "e8d09904",
   "metadata": {},
   "outputs": [
    {
     "name": "stdout",
     "output_type": "stream",
     "text": [
      "호박엿 & 식혜\n"
     ]
    }
   ],
   "source": [
    "item = ('호박엿', '식혜')\n",
    "first = item[0]\n",
    "second = item[1]\n",
    "print(first, '&', second)"
   ]
  },
  {
   "cell_type": "code",
   "execution_count": 3,
   "id": "ea3df2a8",
   "metadata": {},
   "outputs": [
    {
     "ename": "TypeError",
     "evalue": "'tuple' object does not support item assignment",
     "output_type": "error",
     "traceback": [
      "\u001b[0;31m---------------------------------------------------------------------------\u001b[0m",
      "\u001b[0;31mTypeError\u001b[0m                                 Traceback (most recent call last)",
      "Input \u001b[0;32mIn [3]\u001b[0m, in \u001b[0;36m<cell line: 2>\u001b[0;34m()\u001b[0m\n\u001b[1;32m      1\u001b[0m pair \u001b[38;5;241m=\u001b[39m (\u001b[38;5;124m'\u001b[39m\u001b[38;5;124m약과\u001b[39m\u001b[38;5;124m'\u001b[39m, \u001b[38;5;124m'\u001b[39m\u001b[38;5;124m호박엿\u001b[39m\u001b[38;5;124m'\u001b[39m)\n\u001b[0;32m----> 2\u001b[0m pair[\u001b[38;5;241m0\u001b[39m] \u001b[38;5;241m=\u001b[39m \u001b[38;5;124m'\u001b[39m\u001b[38;5;124m타래과\u001b[39m\u001b[38;5;124m'\u001b[39m\n",
      "\u001b[0;31mTypeError\u001b[0m: 'tuple' object does not support item assignment"
     ]
    }
   ],
   "source": [
    "pair = ('약과', '호박엿')\n",
    "pair[0] = '타래과'"
   ]
  },
  {
   "cell_type": "code",
   "execution_count": 4,
   "id": "062d058e",
   "metadata": {},
   "outputs": [
    {
     "name": "stdout",
     "output_type": "stream",
     "text": [
      "호박엿 & 식혜\n"
     ]
    }
   ],
   "source": [
    "item = ('호박엿', '식혜')\n",
    "first, second = item\n",
    "print(first, '&', second)"
   ]
  },
  {
   "cell_type": "code",
   "execution_count": 6,
   "id": "11beac93",
   "metadata": {},
   "outputs": [
    {
     "name": "stdout",
     "output_type": "stream",
     "text": [
      "제일 좋아하는 짭조롬한 과자 는 프레즐, 100 칼로리입니다.\n",
      "제일 좋아하는 달콤한 과자 는 쿠키, 180 칼로리입니다.\n",
      "제일 좋아하는 채소 는 당근, 20 칼로리입니다.\n"
     ]
    }
   ],
   "source": [
    "favorite_snacks = {\n",
    "    '짭조롬한 과자': ('프레즐', 100),\n",
    "    '달콤한 과자': ('쿠키', 180),\n",
    "    '채소': ('당근', 20),\n",
    "}\n",
    "\n",
    "((type1, (name1, cals1)),\n",
    "(type2, (name2, cals2)),\n",
    "(type3, (name3, cals3))) = favorite_snacks.items()\n",
    "\n",
    "print(f'제일 좋아하는 {type1} 는 {name1}, {cals1} 칼로리입니다.')\n",
    "print(f'제일 좋아하는 {type2} 는 {name2}, {cals2} 칼로리입니다.')\n",
    "print(f'제일 좋아하는 {type3} 는 {name3}, {cals3} 칼로리입니다.')"
   ]
  },
  {
   "cell_type": "code",
   "execution_count": 9,
   "id": "315cb268",
   "metadata": {},
   "outputs": [
    {
     "name": "stdout",
     "output_type": "stream",
     "text": [
      "['당근', '베이컨', '쑥갓', '프레즐']\n"
     ]
    }
   ],
   "source": [
    "def bubble_sort(a):\n",
    "    for _ in range(len(a)):\n",
    "        for i in range(1, len(a)):\n",
    "            if a[i] < a[i-1]:\n",
    "                temp = a[i]\n",
    "                a[i] = a[i-1]\n",
    "                a[i-1] = temp\n",
    "                \n",
    "names = ['프레즐', '당근', '쑥갓', '베이컨']\n",
    "bubble_sort(names)\n",
    "print(names)"
   ]
  },
  {
   "cell_type": "code",
   "execution_count": 8,
   "id": "89b7eabe",
   "metadata": {},
   "outputs": [
    {
     "name": "stdout",
     "output_type": "stream",
     "text": [
      "['당근', '베이컨', '쑥갓', '프레즐']\n"
     ]
    }
   ],
   "source": [
    "def bubble_sort(a):\n",
    "    for _ in range(len(a)):\n",
    "        for i in range(1, len(a)):\n",
    "            if a[i] < a[i-1]:\n",
    "                a[i-1], a[i] = a[i], a[i-1]\n",
    "                \n",
    "names = ['프레즐', '당근', '쑥갓', '베이컨']\n",
    "bubble_sort(names)\n",
    "print(names)"
   ]
  },
  {
   "cell_type": "code",
   "execution_count": 10,
   "id": "e9e5b60b",
   "metadata": {},
   "outputs": [
    {
     "name": "stdout",
     "output_type": "stream",
     "text": [
      "#1: 베이컨은 360 칼로리입니다.\n",
      "#2: 도넛은 240 칼로리입니다.\n",
      "#3: 머핀은 190 칼로리입니다.\n"
     ]
    }
   ],
   "source": [
    "snacks = [('베이컨', '360'), ('도넛', 240), ('머핀', 190)]\n",
    "for i in range(len(snacks)):\n",
    "    item = snacks[i]\n",
    "    name = item[0]\n",
    "    calories = item[1]\n",
    "    print(f'#{i+1}: {name}은 {calories} 칼로리입니다.')"
   ]
  },
  {
   "cell_type": "code",
   "execution_count": 11,
   "id": "eceb85eb",
   "metadata": {},
   "outputs": [
    {
     "name": "stdout",
     "output_type": "stream",
     "text": [
      "#1: 베이컨은 360 칼로리입니다.\n",
      "#2: 도넛은 240 칼로리입니다.\n",
      "#3: 머핀은 190 칼로리입니다.\n"
     ]
    }
   ],
   "source": [
    "for rank, (name, calories) in enumerate(snacks, 1):\n",
    "    print(f'#{rank}: {name}은 {calories} 칼로리입니다.')"
   ]
  },
  {
   "cell_type": "code",
   "execution_count": null,
   "id": "a1a92097",
   "metadata": {},
   "outputs": [],
   "source": []
  }
 ],
 "metadata": {
  "kernelspec": {
   "display_name": "py3.9_study",
   "language": "python",
   "name": "py3.9_study"
  },
  "language_info": {
   "codemirror_mode": {
    "name": "ipython",
    "version": 3
   },
   "file_extension": ".py",
   "mimetype": "text/x-python",
   "name": "python",
   "nbconvert_exporter": "python",
   "pygments_lexer": "ipython3",
   "version": "3.9.7"
  }
 },
 "nbformat": 4,
 "nbformat_minor": 5
}
