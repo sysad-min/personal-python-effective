{
 "cells": [
  {
   "cell_type": "code",
   "execution_count": 1,
   "id": "251c3f86",
   "metadata": {},
   "outputs": [],
   "source": [
    "counters = {\n",
    "    '품퍼니켈': 2, \n",
    "    '사워도우': 1,\n",
    "}"
   ]
  },
  {
   "cell_type": "markdown",
   "id": "882a371e",
   "metadata": {},
   "source": [
    "#### 키가 존재하는지 확인 후 대입"
   ]
  },
  {
   "cell_type": "code",
   "execution_count": 2,
   "id": "c843495c",
   "metadata": {},
   "outputs": [],
   "source": [
    "key = '밀'\n",
    "if key in counters:\n",
    "    count = counters[key]\n",
    "else:\n",
    "    count = 0\n",
    "    \n",
    "counters[key] = count + 1"
   ]
  },
  {
   "cell_type": "markdown",
   "id": "672a4b45",
   "metadata": {},
   "source": [
    "#### KeyError 예외를 활용한 방법"
   ]
  },
  {
   "cell_type": "code",
   "execution_count": 3,
   "id": "d63da090",
   "metadata": {},
   "outputs": [],
   "source": [
    "try:\n",
    "    count = counters[key]\n",
    "except KeyError:\n",
    "    count = 0\n",
    "    \n",
    "counters[key] = count + 1"
   ]
  },
  {
   "cell_type": "markdown",
   "id": "1f991f87",
   "metadata": {},
   "source": [
    "#### dict 내장 타입의 get을 활용한 방법"
   ]
  },
  {
   "cell_type": "code",
   "execution_count": 4,
   "id": "69df8ca2",
   "metadata": {},
   "outputs": [],
   "source": [
    "count = counters.get(key, 0)\n",
    "counters[key] = count + 1"
   ]
  },
  {
   "cell_type": "markdown",
   "id": "cd6e6c72",
   "metadata": {},
   "source": [
    "#### in 과 KeyError 예외를 활용한 방법"
   ]
  },
  {
   "cell_type": "code",
   "execution_count": 5,
   "id": "ed2a5b38",
   "metadata": {},
   "outputs": [],
   "source": [
    "if key not in counters:\n",
    "    counters[key] = 0\n",
    "counters[key] += 1\n",
    "\n",
    "if key in counters:\n",
    "    counters[key] += 1\n",
    "else:\n",
    "    counters[key] = 1\n",
    "    \n",
    "try:\n",
    "    counters[key] += 1\n",
    "except KeyError:\n",
    "    coutners[key] = 1"
   ]
  },
  {
   "cell_type": "markdown",
   "id": "600f7e8e",
   "metadata": {},
   "source": [
    "## dict에 저장된 값이 리스트처럼 복잡한 값일 경우"
   ]
  },
  {
   "cell_type": "markdown",
   "id": "5aa0d54b",
   "metadata": {},
   "source": [
    "#### in 사용"
   ]
  },
  {
   "cell_type": "code",
   "execution_count": 7,
   "id": "fdc68d1b",
   "metadata": {},
   "outputs": [
    {
     "name": "stdout",
     "output_type": "stream",
     "text": [
      "{'바게트': ['철수', '순이'], '치아바타': ['하니', '유리'], '브리오슈': ['단이']}\n"
     ]
    }
   ],
   "source": [
    "votes = {\n",
    "    '바게트': ['철수', '순이'],\n",
    "    '치아바타': ['하니', '유리'],\n",
    "}\n",
    "key = '브리오슈'\n",
    "who = '단이'\n",
    "\n",
    "if key in votes:\n",
    "    names = votes[key]\n",
    "else:\n",
    "    votes[key] = names = []\n",
    "    \n",
    "names.append(who)\n",
    "print(votes)"
   ]
  },
  {
   "cell_type": "markdown",
   "id": "98030d19",
   "metadata": {},
   "source": [
    "#### KeyError 예외"
   ]
  },
  {
   "cell_type": "code",
   "execution_count": 9,
   "id": "06701d67",
   "metadata": {},
   "outputs": [],
   "source": [
    "try:\n",
    "    names = votes[key]\n",
    "except KeyError:\n",
    "    votes[key] = names = []\n",
    "    \n",
    "names.append(who)"
   ]
  },
  {
   "cell_type": "markdown",
   "id": "affd0647",
   "metadata": {},
   "source": [
    "#### get 메서드 사용"
   ]
  },
  {
   "cell_type": "code",
   "execution_count": 11,
   "id": "69a87275",
   "metadata": {},
   "outputs": [],
   "source": [
    "names = votes.get(key)\n",
    "if names is None:\n",
    "    votes[key] = names = []\n",
    "    \n",
    "\n",
    "names.append(who)"
   ]
  },
  {
   "cell_type": "code",
   "execution_count": 12,
   "id": "ffd2cad9",
   "metadata": {},
   "outputs": [],
   "source": [
    "if (names := votes.get(key)) is None:\n",
    "    votes[key] = names = []\n",
    "    \n",
    "names.append(who)"
   ]
  },
  {
   "cell_type": "markdown",
   "id": "df2b0d2f",
   "metadata": {},
   "source": [
    "#### setdefault"
   ]
  },
  {
   "cell_type": "code",
   "execution_count": 13,
   "id": "a9a71fd3",
   "metadata": {},
   "outputs": [],
   "source": [
    "names = votes.setdefault(key, [])\n",
    "names.append(who)"
   ]
  },
  {
   "cell_type": "code",
   "execution_count": 14,
   "id": "06874080",
   "metadata": {},
   "outputs": [
    {
     "name": "stdout",
     "output_type": "stream",
     "text": [
      "이전: {'foo': []}\n",
      "이후: {'foo': ['hello']}\n"
     ]
    }
   ],
   "source": [
    "data = {}\n",
    "key = 'foo'\n",
    "value = []\n",
    "data.setdefault(key, value)\n",
    "print('이전:', data)\n",
    "value.append('hello')\n",
    "print('이후:', data)"
   ]
  },
  {
   "cell_type": "code",
   "execution_count": 15,
   "id": "27b5cb02",
   "metadata": {},
   "outputs": [],
   "source": [
    "count = counters.setdefault(key, 0)\n",
    "counters[key] = count + 1"
   ]
  },
  {
   "cell_type": "code",
   "execution_count": null,
   "id": "851e2d2f",
   "metadata": {},
   "outputs": [],
   "source": []
  }
 ],
 "metadata": {
  "kernelspec": {
   "display_name": "py3.9_study",
   "language": "python",
   "name": "py3.9_study"
  },
  "language_info": {
   "codemirror_mode": {
    "name": "ipython",
    "version": 3
   },
   "file_extension": ".py",
   "mimetype": "text/x-python",
   "name": "python",
   "nbconvert_exporter": "python",
   "pygments_lexer": "ipython3",
   "version": "3.9.7"
  }
 },
 "nbformat": 4,
 "nbformat_minor": 5
}
