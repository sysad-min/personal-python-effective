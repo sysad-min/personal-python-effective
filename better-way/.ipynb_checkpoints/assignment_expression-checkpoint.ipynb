{
 "cells": [
  {
   "cell_type": "code",
   "execution_count": 1,
   "id": "24bdd6e0",
   "metadata": {},
   "outputs": [],
   "source": [
    "fresh_fruit = {\n",
    "    '사과': 10,\n",
    "    '바나나': 8,\n",
    "    '레몬': 5,\n",
    "}"
   ]
  },
  {
   "cell_type": "code",
   "execution_count": 2,
   "id": "e460e32d",
   "metadata": {},
   "outputs": [
    {
     "name": "stdout",
     "output_type": "stream",
     "text": [
      "레모네이드 제조\n"
     ]
    }
   ],
   "source": [
    "count = fresh_fruit.get('레몬', 0)\n",
    "if count:\n",
    "    print('레모네이드 제조')\n",
    "else:\n",
    "    print('품절')"
   ]
  },
  {
   "cell_type": "code",
   "execution_count": 3,
   "id": "de419807",
   "metadata": {},
   "outputs": [
    {
     "name": "stdout",
     "output_type": "stream",
     "text": [
      "레모네이드 제조\n"
     ]
    }
   ],
   "source": [
    "if count := fresh_fruit.get('레몬', 0):\n",
    "    print('레모네이드 제조')\n",
    "else:\n",
    "    print('품절')"
   ]
  },
  {
   "cell_type": "code",
   "execution_count": 4,
   "id": "12f32d65",
   "metadata": {},
   "outputs": [
    {
     "name": "stdout",
     "output_type": "stream",
     "text": [
      "사이다 제조\n"
     ]
    }
   ],
   "source": [
    "count = fresh_fruit.get('사과', 0)\n",
    "if count >= 4:\n",
    "    print('사이다 제조')\n",
    "else:\n",
    "    print('품절')"
   ]
  },
  {
   "cell_type": "code",
   "execution_count": 5,
   "id": "edab5af5",
   "metadata": {},
   "outputs": [
    {
     "name": "stdout",
     "output_type": "stream",
     "text": [
      "사이다 제조\n"
     ]
    }
   ],
   "source": [
    "if (count := fresh_fruit.get('사과', 0)) >= 4:\n",
    "    print('사이다 제조')\n",
    "else:\n",
    "    print('품절')"
   ]
  },
  {
   "cell_type": "code",
   "execution_count": 6,
   "id": "036ea630",
   "metadata": {},
   "outputs": [
    {
     "ename": "NameError",
     "evalue": "name 'slice_bananas' is not defined",
     "output_type": "error",
     "traceback": [
      "\u001b[0;31m---------------------------------------------------------------------------\u001b[0m",
      "\u001b[0;31mNameError\u001b[0m                                 Traceback (most recent call last)",
      "Input \u001b[0;32mIn [6]\u001b[0m, in \u001b[0;36m<cell line: 2>\u001b[0;34m()\u001b[0m\n\u001b[1;32m      1\u001b[0m count \u001b[38;5;241m=\u001b[39m fresh_fruit\u001b[38;5;241m.\u001b[39mget(\u001b[38;5;124m'\u001b[39m\u001b[38;5;124m바나나\u001b[39m\u001b[38;5;124m'\u001b[39m, \u001b[38;5;241m0\u001b[39m)\n\u001b[1;32m      2\u001b[0m \u001b[38;5;28;01mif\u001b[39;00m count \u001b[38;5;241m>\u001b[39m\u001b[38;5;241m=\u001b[39m \u001b[38;5;241m2\u001b[39m:\n\u001b[0;32m----> 3\u001b[0m     pieces \u001b[38;5;241m=\u001b[39m \u001b[43mslice_bananas\u001b[49m(count)\n\u001b[1;32m      4\u001b[0m     to_enjoy \u001b[38;5;241m=\u001b[39m mak_smoothies(pieces)\n\u001b[1;32m      5\u001b[0m \u001b[38;5;28;01melse\u001b[39;00m:\n",
      "\u001b[0;31mNameError\u001b[0m: name 'slice_bananas' is not defined"
     ]
    }
   ],
   "source": [
    "count = fresh_fruit.get('바나나', 0)\n",
    "if count >= 2:\n",
    "    pieces = slice_bananas(count)\n",
    "    to_enjoy = mak_smoothies(pieces)\n",
    "else:\n",
    "    count = fresh_fruit.get('사과', 0)\n",
    "    if count >= 4:\n",
    "        to_enjoy = make_cider(count)\n",
    "    else:\n",
    "        count = fresh_fruit.get('레몬', 0)\n",
    "        if count:\n",
    "            to_enjoy = make_lemonade(count)\n",
    "        else:\n",
    "            to_enjoy = '아무것도 없음'"
   ]
  },
  {
   "cell_type": "code",
   "execution_count": null,
   "id": "3b7d3bf9",
   "metadata": {},
   "outputs": [],
   "source": [
    "if (count := fresh_fruit.get('바나나', 0)) >= 2:\n",
    "    pieces = slice_bananas(count)\n",
    "    to_enjoy = make_smoothies(pieces)\n",
    "elif (count := fresh_fruit.get('사과', 0)) >= 4:\n",
    "    to_enjoy = make_cider(count)\n",
    "elif count := fresh_fruit.get('레몬'):\n",
    "    to_enjoy = make_lemonade(count)\n",
    "else:\n",
    "    to_enjoy = '아무것도 없음'"
   ]
  }
 ],
 "metadata": {
  "kernelspec": {
   "display_name": "py3.9_study",
   "language": "python",
   "name": "py3.9_study"
  },
  "language_info": {
   "codemirror_mode": {
    "name": "ipython",
    "version": 3
   },
   "file_extension": ".py",
   "mimetype": "text/x-python",
   "name": "python",
   "nbconvert_exporter": "python",
   "pygments_lexer": "ipython3",
   "version": "3.9.7"
  }
 },
 "nbformat": 4,
 "nbformat_minor": 5
}
