{
 "cells": [
  {
   "cell_type": "code",
   "execution_count": 1,
   "id": "95202494",
   "metadata": {},
   "outputs": [],
   "source": [
    "def safe_division(number, divisor,\n",
    "                 ignore_overflow,\n",
    "                 ignore_zero_division):\n",
    "    try:\n",
    "        return number / divisor\n",
    "    except OverflowError:\n",
    "        if ignore_overflow:\n",
    "            return 0\n",
    "        else:\n",
    "            raise\n",
    "    except ZeroDivisionError:\n",
    "        if ignore_zero_division:\n",
    "            return float('inf')\n",
    "        else:\n",
    "            raise"
   ]
  },
  {
   "cell_type": "code",
   "execution_count": 2,
   "id": "7d534bc3",
   "metadata": {},
   "outputs": [],
   "source": [
    "result = safe_division(1.0, 10**500, True, False)"
   ]
  },
  {
   "cell_type": "code",
   "execution_count": 3,
   "id": "9e1579f7",
   "metadata": {},
   "outputs": [
    {
     "name": "stdout",
     "output_type": "stream",
     "text": [
      "0\n"
     ]
    }
   ],
   "source": [
    "print(result)"
   ]
  },
  {
   "cell_type": "code",
   "execution_count": 4,
   "id": "d69d8ff9",
   "metadata": {},
   "outputs": [
    {
     "name": "stdout",
     "output_type": "stream",
     "text": [
      "inf\n"
     ]
    }
   ],
   "source": [
    "result = safe_division(1.0, 0, False, True)\n",
    "print(result)"
   ]
  },
  {
   "cell_type": "code",
   "execution_count": 8,
   "id": "5924c2d6",
   "metadata": {},
   "outputs": [],
   "source": [
    "def safe_division_b(number, divisor,\n",
    "                 ignore_overflow=False,          # 변경\n",
    "                 ignore_zero_division=False):    # 변경\n",
    "    try:\n",
    "        return number / divisor\n",
    "    except OverflowError:\n",
    "        if ignore_overflow:\n",
    "            return 0\n",
    "        else:\n",
    "            raise\n",
    "    except ZeroDivisionError:\n",
    "        if ignore_zero_division:\n",
    "            return float('inf')\n",
    "        else:\n",
    "            raise"
   ]
  },
  {
   "cell_type": "code",
   "execution_count": 9,
   "id": "f9f92544",
   "metadata": {},
   "outputs": [
    {
     "name": "stdout",
     "output_type": "stream",
     "text": [
      "0\n"
     ]
    }
   ],
   "source": [
    "result = safe_division_b(1.0, 10**500, ignore_overflow=True)\n",
    "print(result)"
   ]
  },
  {
   "cell_type": "code",
   "execution_count": 13,
   "id": "66ea8d63",
   "metadata": {},
   "outputs": [
    {
     "name": "stdout",
     "output_type": "stream",
     "text": [
      "inf\n"
     ]
    }
   ],
   "source": [
    "result = safe_division_b(1.0, 0, ignore_zero_division=True)\n",
    "print(result)"
   ]
  },
  {
   "cell_type": "code",
   "execution_count": 14,
   "id": "9d3f787e",
   "metadata": {},
   "outputs": [
    {
     "name": "stdout",
     "output_type": "stream",
     "text": [
      "0\n"
     ]
    }
   ],
   "source": [
    "result = safe_division_b(1.0, 10**500, True, False)\n",
    "print(result)"
   ]
  },
  {
   "cell_type": "code",
   "execution_count": 11,
   "id": "f1674278",
   "metadata": {},
   "outputs": [],
   "source": [
    "def safe_division_c(number, divisor, *, # 변경\n",
    "                 ignore_overflow=False,\n",
    "                 ignore_zero_division=False):\n",
    "    try:\n",
    "        return number / divisor\n",
    "    except OverflowError:\n",
    "        if ignore_overflow:\n",
    "            return 0\n",
    "        else:\n",
    "            raise\n",
    "    except ZeroDivisionError:\n",
    "        if ignore_zero_division:\n",
    "            return float('inf')\n",
    "        else:\n",
    "            raise"
   ]
  },
  {
   "cell_type": "code",
   "execution_count": 15,
   "id": "516f6259",
   "metadata": {},
   "outputs": [
    {
     "ename": "TypeError",
     "evalue": "safe_division_c() takes 2 positional arguments but 4 were given",
     "output_type": "error",
     "traceback": [
      "\u001b[0;31m---------------------------------------------------------------------------\u001b[0m",
      "\u001b[0;31mTypeError\u001b[0m                                 Traceback (most recent call last)",
      "Input \u001b[0;32mIn [15]\u001b[0m, in \u001b[0;36m<cell line: 1>\u001b[0;34m()\u001b[0m\n\u001b[0;32m----> 1\u001b[0m result \u001b[38;5;241m=\u001b[39m \u001b[43msafe_division_c\u001b[49m\u001b[43m(\u001b[49m\u001b[38;5;241;43m1.0\u001b[39;49m\u001b[43m,\u001b[49m\u001b[43m \u001b[49m\u001b[38;5;241;43m10\u001b[39;49m\u001b[38;5;241;43m*\u001b[39;49m\u001b[38;5;241;43m*\u001b[39;49m\u001b[38;5;241;43m500\u001b[39;49m\u001b[43m,\u001b[49m\u001b[43m \u001b[49m\u001b[38;5;28;43;01mTrue\u001b[39;49;00m\u001b[43m,\u001b[49m\u001b[43m \u001b[49m\u001b[38;5;28;43;01mFalse\u001b[39;49;00m\u001b[43m)\u001b[49m\n\u001b[1;32m      2\u001b[0m \u001b[38;5;28mprint\u001b[39m(result)\n",
      "\u001b[0;31mTypeError\u001b[0m: safe_division_c() takes 2 positional arguments but 4 were given"
     ]
    }
   ],
   "source": [
    "result = safe_division_c(1.0, 10**500, True, False)\n",
    "print(result)"
   ]
  },
  {
   "cell_type": "code",
   "execution_count": 17,
   "id": "0516a5fb",
   "metadata": {},
   "outputs": [],
   "source": [
    "result = safe_division_c(1.0, 0, ignore_zero_division=True)\n",
    "assert result == float('inf')"
   ]
  },
  {
   "cell_type": "code",
   "execution_count": 18,
   "id": "17353434",
   "metadata": {},
   "outputs": [],
   "source": [
    "try:\n",
    "    result = safe_division_c(1.0, 0)\n",
    "except ZeroDivisionError:\n",
    "    pass"
   ]
  },
  {
   "cell_type": "code",
   "execution_count": 20,
   "id": "d6ef458c",
   "metadata": {},
   "outputs": [],
   "source": [
    "assert safe_division_c(number=2, divisor=5) == 0.4\n",
    "assert safe_division_c(divisor=5, number=2) == 0.4\n",
    "assert safe_division_c(2, divisor=5) == 0.4"
   ]
  },
  {
   "cell_type": "code",
   "execution_count": 26,
   "id": "7e1dc259",
   "metadata": {},
   "outputs": [],
   "source": [
    "def safe_division_c(numerator, denominator, *, # 변경\n",
    "                 ignore_overflow=False,\n",
    "                 ignore_zero_division=False):\n",
    "    try:\n",
    "        return numerator / denominator\n",
    "    except OverflowError:\n",
    "        if ignore_overflow:\n",
    "            return 0\n",
    "        else:\n",
    "            raise\n",
    "    except ZeroDivisionError:\n",
    "        if ignore_zero_division:\n",
    "            return float('inf')\n",
    "        else:\n",
    "            raise"
   ]
  },
  {
   "cell_type": "code",
   "execution_count": 27,
   "id": "133703b8",
   "metadata": {},
   "outputs": [
    {
     "ename": "TypeError",
     "evalue": "safe_division_c() got an unexpected keyword argument 'number'",
     "output_type": "error",
     "traceback": [
      "\u001b[0;31m---------------------------------------------------------------------------\u001b[0m",
      "\u001b[0;31mTypeError\u001b[0m                                 Traceback (most recent call last)",
      "Input \u001b[0;32mIn [27]\u001b[0m, in \u001b[0;36m<cell line: 1>\u001b[0;34m()\u001b[0m\n\u001b[0;32m----> 1\u001b[0m \u001b[43msafe_division_c\u001b[49m\u001b[43m(\u001b[49m\u001b[43mnumber\u001b[49m\u001b[38;5;241;43m=\u001b[39;49m\u001b[38;5;241;43m2\u001b[39;49m\u001b[43m,\u001b[49m\u001b[43m \u001b[49m\u001b[43mdivisor\u001b[49m\u001b[38;5;241;43m=\u001b[39;49m\u001b[38;5;241;43m5\u001b[39;49m\u001b[43m)\u001b[49m\n",
      "\u001b[0;31mTypeError\u001b[0m: safe_division_c() got an unexpected keyword argument 'number'"
     ]
    }
   ],
   "source": [
    "safe_division_c(number=2, divisor=5)"
   ]
  },
  {
   "cell_type": "code",
   "execution_count": 28,
   "id": "ba6d550d",
   "metadata": {},
   "outputs": [],
   "source": [
    "def safe_division_d(numerator, denominator, /, *, # 변경\n",
    "                 ignore_overflow=False,\n",
    "                 ignore_zero_division=False):\n",
    "    try:\n",
    "        return numerator / denominator\n",
    "    except OverflowError:\n",
    "        if ignore_overflow:\n",
    "            return 0\n",
    "        else:\n",
    "            raise\n",
    "    except ZeroDivisionError:\n",
    "        if ignore_zero_division:\n",
    "            return float('inf')\n",
    "        else:\n",
    "            raise"
   ]
  },
  {
   "cell_type": "code",
   "execution_count": 29,
   "id": "6e3ca8ae",
   "metadata": {},
   "outputs": [],
   "source": [
    "assert safe_division_d(2, 5) == 0.4"
   ]
  },
  {
   "cell_type": "code",
   "execution_count": 30,
   "id": "745f68db",
   "metadata": {},
   "outputs": [
    {
     "ename": "TypeError",
     "evalue": "safe_division_d() got some positional-only arguments passed as keyword arguments: 'numerator, denominator'",
     "output_type": "error",
     "traceback": [
      "\u001b[0;31m---------------------------------------------------------------------------\u001b[0m",
      "\u001b[0;31mTypeError\u001b[0m                                 Traceback (most recent call last)",
      "Input \u001b[0;32mIn [30]\u001b[0m, in \u001b[0;36m<cell line: 1>\u001b[0;34m()\u001b[0m\n\u001b[0;32m----> 1\u001b[0m \u001b[43msafe_division_d\u001b[49m\u001b[43m(\u001b[49m\u001b[43mnumerator\u001b[49m\u001b[38;5;241;43m=\u001b[39;49m\u001b[38;5;241;43m2\u001b[39;49m\u001b[43m,\u001b[49m\u001b[43m \u001b[49m\u001b[43mdenominator\u001b[49m\u001b[38;5;241;43m=\u001b[39;49m\u001b[38;5;241;43m5\u001b[39;49m\u001b[43m)\u001b[49m\n",
      "\u001b[0;31mTypeError\u001b[0m: safe_division_d() got some positional-only arguments passed as keyword arguments: 'numerator, denominator'"
     ]
    }
   ],
   "source": [
    "safe_division_d(numerator=2, denominator=5)"
   ]
  },
  {
   "cell_type": "code",
   "execution_count": 31,
   "id": "e246973e",
   "metadata": {},
   "outputs": [],
   "source": [
    "def safe_division_e(numerator, denominator, /, \n",
    "                    ndigits=10, *,         # 변경\n",
    "                 ignore_overflow=False,\n",
    "                 ignore_zero_division=False):\n",
    "    try:\n",
    "        fraction = numerator / denominator # 변경\n",
    "        return round(fraction, ndigits)    # 변경\n",
    "    except OverflowError:\n",
    "        if ignore_overflow:\n",
    "            return 0\n",
    "        else:\n",
    "            raise\n",
    "    except ZeroDivisionError:\n",
    "        if ignore_zero_division:\n",
    "            return float('inf')\n",
    "        else:\n",
    "            raise"
   ]
  },
  {
   "cell_type": "code",
   "execution_count": 35,
   "id": "6c5c1e43",
   "metadata": {},
   "outputs": [
    {
     "name": "stdout",
     "output_type": "stream",
     "text": [
      "3.1428571429\n",
      "3.14286\n",
      "3.14\n"
     ]
    }
   ],
   "source": [
    "result = safe_division_e(22, 7)\n",
    "print(result)\n",
    "result = safe_division_e(22, 7, 5)\n",
    "print(result)\n",
    "result = safe_division_e(22, 7, ndigits=2)\n",
    "print(result)"
   ]
  },
  {
   "cell_type": "code",
   "execution_count": null,
   "id": "6c89ecc6",
   "metadata": {},
   "outputs": [],
   "source": []
  }
 ],
 "metadata": {
  "kernelspec": {
   "display_name": "py3.9_study",
   "language": "python",
   "name": "py3.9_study"
  },
  "language_info": {
   "codemirror_mode": {
    "name": "ipython",
    "version": 3
   },
   "file_extension": ".py",
   "mimetype": "text/x-python",
   "name": "python",
   "nbconvert_exporter": "python",
   "pygments_lexer": "ipython3",
   "version": "3.9.7"
  }
 },
 "nbformat": 4,
 "nbformat_minor": 5
}
