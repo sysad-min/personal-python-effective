{
 "cells": [
  {
   "cell_type": "code",
   "execution_count": 1,
   "id": "35508777",
   "metadata": {},
   "outputs": [],
   "source": [
    "from time import sleep\n",
    "from datetime import datetime"
   ]
  },
  {
   "cell_type": "code",
   "execution_count": 2,
   "id": "9bc145f6",
   "metadata": {},
   "outputs": [],
   "source": [
    "def log(message, when=datetime.now()):\n",
    "    print(f'{when}: {message}')"
   ]
  },
  {
   "cell_type": "code",
   "execution_count": 3,
   "id": "0b42a17e",
   "metadata": {},
   "outputs": [
    {
     "name": "stdout",
     "output_type": "stream",
     "text": [
      "2022-08-15 15:42:13.222192: 안녕\n",
      "2022-08-15 15:42:13.222192: 다시 안녕!\n"
     ]
    }
   ],
   "source": [
    "log('안녕')\n",
    "sleep(0.1)\n",
    "log('다시 안녕!')"
   ]
  },
  {
   "cell_type": "code",
   "execution_count": 4,
   "id": "ac4e002b",
   "metadata": {},
   "outputs": [],
   "source": [
    "def log(message, when=None):\n",
    "    \"\"\"메시지와 타임스탬프를 로그에 남긴다.\n",
    "    Args:\n",
    "        message: 출력할 메시지.\n",
    "        when: 메시지가 발생한 시각(datetime).\n",
    "            디폴트 값은 현재 시간.\n",
    "    \"\"\"\n",
    "    if when is None:\n",
    "        when = datetime.now()\n",
    "    print(f'{when}: {message}')"
   ]
  },
  {
   "cell_type": "code",
   "execution_count": 5,
   "id": "a9cd507a",
   "metadata": {},
   "outputs": [
    {
     "name": "stdout",
     "output_type": "stream",
     "text": [
      "2022-08-15 15:46:43.027612: 안녕\n",
      "2022-08-15 15:46:43.133358: 다시 안녕!\n"
     ]
    }
   ],
   "source": [
    "log('안녕')\n",
    "sleep(0.1)\n",
    "log('다시 안녕!')"
   ]
  },
  {
   "cell_type": "code",
   "execution_count": 31,
   "id": "ff7092c9",
   "metadata": {},
   "outputs": [],
   "source": [
    "import json"
   ]
  },
  {
   "cell_type": "code",
   "execution_count": 32,
   "id": "724991a1",
   "metadata": {},
   "outputs": [],
   "source": [
    "def decode(data, default={}):\n",
    "    try:\n",
    "        return json.loads(data)\n",
    "    except ValueError:\n",
    "        return default"
   ]
  },
  {
   "cell_type": "code",
   "execution_count": 33,
   "id": "916ea9c6",
   "metadata": {},
   "outputs": [
    {
     "name": "stdout",
     "output_type": "stream",
     "text": [
      "Foo: {'stuff': 5, 'meep': 1}\n",
      "Bar: {'stuff': 5, 'meep': 1}\n"
     ]
    }
   ],
   "source": [
    "foo = decode('잘못된 데이터')\n",
    "foo['stuff'] = 5\n",
    "bar = decode('또 잘못된 데이터')\n",
    "bar['meep'] = 1\n",
    "print('Foo:', foo)\n",
    "print('Bar:', bar)\n",
    "assert foo is bar"
   ]
  },
  {
   "cell_type": "code",
   "execution_count": 13,
   "id": "82dffba1",
   "metadata": {},
   "outputs": [],
   "source": [
    "def decode(data, default=None):\n",
    "    \"\"\"문자열로부터 JSON 데이터를 읽어온다.\n",
    "    \n",
    "    Args:\n",
    "        data: 디코딩할 JSON 데이터.\n",
    "        default: 디코딩 실패 시 반환할 값.\n",
    "            디폴트 값은 빈 딕셔너리\n",
    "            \n",
    "    \"\"\"\n",
    "    try:\n",
    "        return json.loads(data)\n",
    "    except ValueError:\n",
    "        if default is None:\n",
    "            default = {}\n",
    "        return default"
   ]
  },
  {
   "cell_type": "code",
   "execution_count": 16,
   "id": "cb12e2f9",
   "metadata": {},
   "outputs": [
    {
     "name": "stdout",
     "output_type": "stream",
     "text": [
      "Foo: {'stuff': 5}\n",
      "Bar: {'meep': 1}\n"
     ]
    }
   ],
   "source": [
    "foo = decode('잘못된 데이터')\n",
    "foo['stuff'] = 5\n",
    "bar = decode('또 잘못된 데이터')\n",
    "bar['meep'] = 1\n",
    "print('Foo:', foo)\n",
    "print('Bar:', bar)\n",
    "assert foo is not bar"
   ]
  },
  {
   "cell_type": "code",
   "execution_count": 26,
   "id": "d718bc3c",
   "metadata": {},
   "outputs": [],
   "source": [
    "from typing import Optional"
   ]
  },
  {
   "cell_type": "code",
   "execution_count": 27,
   "id": "86be4449",
   "metadata": {},
   "outputs": [],
   "source": [
    "def log_typed(message: str,\n",
    "             when: Optional[datetime]=None) -> None:\n",
    "    \"\"\" 메시지와 타임스탬프를 로그에 남김\n",
    "    Args:\n",
    "        message: 출력할 메시지.\n",
    "        when: 메시지가 발생한 시각(datetime).\n",
    "            디폴트 값은 현재 시간.\n",
    "    \"\"\"\n",
    "    if when is None:\n",
    "        when = datetime.now()\n",
    "    print(f'{when}: {message}')"
   ]
  },
  {
   "cell_type": "code",
   "execution_count": 29,
   "id": "67dab7fc",
   "metadata": {},
   "outputs": [
    {
     "name": "stdout",
     "output_type": "stream",
     "text": [
      "2022-08-15 16:01:55.896635: 안녕\n",
      "2022-08-15 16:01:56.002549: 다시 안녕!\n"
     ]
    }
   ],
   "source": [
    "log_typed('안녕')\n",
    "sleep(0.1)\n",
    "log_typed('다시 안녕!')"
   ]
  },
  {
   "cell_type": "code",
   "execution_count": null,
   "id": "8a05b668",
   "metadata": {},
   "outputs": [],
   "source": []
  }
 ],
 "metadata": {
  "kernelspec": {
   "display_name": "py3.9_study",
   "language": "python",
   "name": "py3.9_study"
  },
  "language_info": {
   "codemirror_mode": {
    "name": "ipython",
    "version": 3
   },
   "file_extension": ".py",
   "mimetype": "text/x-python",
   "name": "python",
   "nbconvert_exporter": "python",
   "pygments_lexer": "ipython3",
   "version": "3.9.7"
  }
 },
 "nbformat": 4,
 "nbformat_minor": 5
}
