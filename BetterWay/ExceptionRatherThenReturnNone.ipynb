{
 "cells": [
  {
   "cell_type": "code",
   "execution_count": 1,
   "id": "726dbdcc",
   "metadata": {},
   "outputs": [],
   "source": [
    "def careful_divide(a, b):\n",
    "    try:\n",
    "        return a / b\n",
    "    except ZeroDivisionError:\n",
    "        return None"
   ]
  },
  {
   "cell_type": "code",
   "execution_count": 2,
   "id": "560c72eb",
   "metadata": {},
   "outputs": [
    {
     "name": "stdout",
     "output_type": "stream",
     "text": [
      "잘못된 입력\n"
     ]
    }
   ],
   "source": [
    "x, y = 1, 0\n",
    "result = careful_divide(x, y)\n",
    "if result is None:\n",
    "    print('잘못된 입력')"
   ]
  },
  {
   "cell_type": "code",
   "execution_count": 4,
   "id": "773b71c1",
   "metadata": {},
   "outputs": [
    {
     "name": "stdout",
     "output_type": "stream",
     "text": [
      "잘못된 입력\n"
     ]
    }
   ],
   "source": [
    "x, y = 0, 5\n",
    "result = careful_divide(x, y)\n",
    "if not result:\n",
    "    print('잘못된 입력') # 이 코드가 실행되는데, 사실 이 코드가 실행되면 안됨"
   ]
  },
  {
   "cell_type": "code",
   "execution_count": 1,
   "id": "6c3f3775",
   "metadata": {},
   "outputs": [],
   "source": [
    "def careful_divide(a, b):\n",
    "    try:\n",
    "        return True, a / b\n",
    "    except ZeroDivisionError:\n",
    "        return False, None"
   ]
  },
  {
   "cell_type": "code",
   "execution_count": 9,
   "id": "06a117be",
   "metadata": {},
   "outputs": [],
   "source": [
    "success, result = careful_divide(x, y)\n",
    "if not succes:\n",
    "    print('잘못된 입력')"
   ]
  },
  {
   "cell_type": "code",
   "execution_count": 6,
   "id": "0b49d485",
   "metadata": {},
   "outputs": [],
   "source": [
    "x, y = 5, 2\n",
    "_, result = careful_divide(x, y)\n",
    "if not _:\n",
    "    print('잘못된 입력')"
   ]
  },
  {
   "cell_type": "code",
   "execution_count": 13,
   "id": "d8470421",
   "metadata": {},
   "outputs": [],
   "source": [
    "def careful_divide(a, b):\n",
    "    try:\n",
    "        return a / b\n",
    "    except ZeroDivisionError:\n",
    "        raise ValueError('잘못된 입력')"
   ]
  },
  {
   "cell_type": "code",
   "execution_count": 14,
   "id": "e81b81f1",
   "metadata": {},
   "outputs": [
    {
     "name": "stdout",
     "output_type": "stream",
     "text": [
      "결과는 2.5 입니다.\n"
     ]
    }
   ],
   "source": [
    "x, y = 5, 2\n",
    "try:\n",
    "    result = careful_divide(x, y)\n",
    "except ValueError:\n",
    "    print('잘못된 입력')\n",
    "else:\n",
    "    print('결과는 %.1f 입니다.' % result)"
   ]
  },
  {
   "cell_type": "code",
   "execution_count": 15,
   "id": "ead0bda0",
   "metadata": {},
   "outputs": [],
   "source": [
    "def carefule_divide(a: float, b: float) -> float:\n",
    "    \"\"\"a를 b로 나눈다.\n",
    "    Raises:\n",
    "        ValueError: b가 0이어서 나눗셈을 할 수 없을 때\n",
    "    \"\"\"\n",
    "    try:\n",
    "        return a / b\n",
    "    except ZeroDivisionError as e:\n",
    "        raise ValueError('잘못된 입력')"
   ]
  },
  {
   "cell_type": "code",
   "execution_count": null,
   "id": "53baf8b2",
   "metadata": {},
   "outputs": [],
   "source": []
  }
 ],
 "metadata": {
  "kernelspec": {
   "display_name": "py3.9_study",
   "language": "python",
   "name": "py3.9_study"
  },
  "language_info": {
   "codemirror_mode": {
    "name": "ipython",
    "version": 3
   },
   "file_extension": ".py",
   "mimetype": "text/x-python",
   "name": "python",
   "nbconvert_exporter": "python",
   "pygments_lexer": "ipython3",
   "version": "3.9.7"
  }
 },
 "nbformat": 4,
 "nbformat_minor": 5
}
